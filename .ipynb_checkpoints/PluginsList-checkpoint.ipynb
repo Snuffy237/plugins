{
 "cells": [
  {
   "cell_type": "code",
   "execution_count": 1,
   "metadata": {},
   "outputs": [],
   "source": [
    "\"\"\"\"\n",
    "!pip install zipfile36\n",
    "!pip install requests\n",
    "!pip install wget\n",
    "\"\"\"\n",
    "import requests\n",
    "import pandas as pd\n",
    "import xml.etree.ElementTree as ET\n",
    "import zipfile as zp\n",
    "import os\n",
    "import wget\n",
    "import re\n",
    "\n",
    "class PluginReader:\n",
    "    \n",
    "    temp = os.path.join(os.curdir,'temp') \n",
    "    \n",
    "    def __init__(self, url):\n",
    "        self.url = url\n",
    "    \n",
    "    def createTempDir():\n",
    "        try:\n",
    "            os.mkdir(os.path.join(os.curdir,'temp'))\n",
    "        except FileExistsError:\n",
    "            print(\"Le dossier temp est déjà créé\")\n",
    "\n",
    "\n",
    "    def dropTempDir(self):\n",
    "        try:\n",
    "            os.remove(os.path.join(self.temp,'content.xml'))\n",
    "            os.remove(os.path.join(self.temp,'content.jar'))\n",
    "            os.remove(self.temp)\n",
    "        except PermissionError:\n",
    "            print('Droit de suppression absent')\n",
    "        except FileNotFoundError:\n",
    "            print('Fichier absent')\n",
    "\n",
    "    def getxml(self):\n",
    "        return  ET.XML(requests.get(self.url).text)\n",
    "\n",
    "    def getXMLData(self):\n",
    "        path = wget.download(self.url,self.temp)\n",
    "        os.rename(zp.ZipFile(path).extract('content.xml'),os.path.join(self.temp,'content.xml'))\n",
    "        data = ET.parse(os.path.join(self.temp,'content.xml'))\n",
    "        return data\n",
    "\n",
    "    def getData(self):\n",
    "        jar = re.compile('\\.jar$', re.IGNORECASE)\n",
    "        xml = re.compile('\\.xml$', re.IGNORECASE)\n",
    "        if len(re.findall(jar,self.url)) > 0:\n",
    "            if re.findall(jar,self.url)[0] == '.jar':\n",
    "                root = self.getXMLData().getroot()\n",
    "        elif len(re.findall(xml,self.url)):\n",
    "            if re.findall(xml,self.url)[0] == '.xml':\n",
    "                root = getxml()\n",
    "        return root\n",
    "\n",
    "\n",
    "\n",
    "    def listPlugins(self):\n",
    "        self.dropTempDir()\n",
    "        root = self.getXMLData().getroot()\n",
    "        plugins = {}\n",
    "        for child in root:\n",
    "            for schild in child:\n",
    "                if schild.tag == 'unit':\n",
    "                    for xchild in schild:\n",
    "                        if xchild.tag == 'provides':\n",
    "                            dico = {}\n",
    "                            versionList = []\n",
    "                            for provided in xchild:\n",
    "                                versionList.append(provided.attrib['version'])\n",
    "                            plugins[schild.attrib['id']] = sorted(set(versionList),reverse=True) \n",
    "        self.dropTempDir()\n",
    "        return plugins\n",
    "    \n",
    "    def getPlugin(self,id):\n",
    "        return self.listPlugins()[id]\n",
    "            \n",
    "url1 = 'https://download.jboss.org/jbosstools/updates/m2e-extensions/m2e-jdt-compiler/1.0.0/content.jar'\n",
    "url2 =  'http://dependencies.sarl.io/content.jar' \n",
    "url3 = 'http://download.eclipse.org/releases/2019-12/201910181000/content.jar'\n",
    "url4 = 'http://download.tuxfamily.org/arakhne/p2/content.jar'\n",
    "\n"
   ]
  },
  {
   "cell_type": "code",
   "execution_count": 2,
   "metadata": {},
   "outputs": [
    {
     "name": "stdout",
     "output_type": "stream",
     "text": [
      "Fichier absent\n",
      "100% [......................................................] 3184832 / 3184832Droit de suppression absent\n"
     ]
    }
   ],
   "source": [
    "p = PluginReader(url3)\n",
    "plug = p.listPlugins()"
   ]
  },
  {
   "cell_type": "code",
   "execution_count": 3,
   "metadata": {},
   "outputs": [
    {
     "name": "stdout",
     "output_type": "stream",
     "text": [
      "Fichier absent\n",
      "100% [......................................................] 3184832 / 3184832Droit de suppression absent\n"
     ]
    },
    {
     "ename": "KeyError",
     "evalue": "'org.arakhne.afc.core.references'",
     "output_type": "error",
     "traceback": [
      "\u001b[1;31m---------------------------------------------------------------------------\u001b[0m",
      "\u001b[1;31mKeyError\u001b[0m                                  Traceback (most recent call last)",
      "\u001b[1;32m<ipython-input-3-a13f07b206a5>\u001b[0m in \u001b[0;36m<module>\u001b[1;34m\u001b[0m\n\u001b[1;32m----> 1\u001b[1;33m \u001b[0mplug\u001b[0m \u001b[1;33m=\u001b[0m \u001b[0mp\u001b[0m\u001b[1;33m.\u001b[0m\u001b[0mgetPlugin\u001b[0m\u001b[1;33m(\u001b[0m\u001b[1;34m'org.arakhne.afc.core.references'\u001b[0m\u001b[1;33m)\u001b[0m\u001b[1;33m\u001b[0m\u001b[1;33m\u001b[0m\u001b[0m\n\u001b[0m",
      "\u001b[1;32m<ipython-input-1-0746a2dc6c30>\u001b[0m in \u001b[0;36mgetPlugin\u001b[1;34m(self, id)\u001b[0m\n\u001b[0;32m     76\u001b[0m \u001b[1;33m\u001b[0m\u001b[0m\n\u001b[0;32m     77\u001b[0m     \u001b[1;32mdef\u001b[0m \u001b[0mgetPlugin\u001b[0m\u001b[1;33m(\u001b[0m\u001b[0mself\u001b[0m\u001b[1;33m,\u001b[0m\u001b[0mid\u001b[0m\u001b[1;33m)\u001b[0m\u001b[1;33m:\u001b[0m\u001b[1;33m\u001b[0m\u001b[1;33m\u001b[0m\u001b[0m\n\u001b[1;32m---> 78\u001b[1;33m         \u001b[1;32mreturn\u001b[0m \u001b[0mself\u001b[0m\u001b[1;33m.\u001b[0m\u001b[0mlistPlugins\u001b[0m\u001b[1;33m(\u001b[0m\u001b[1;33m)\u001b[0m\u001b[1;33m[\u001b[0m\u001b[0mid\u001b[0m\u001b[1;33m]\u001b[0m\u001b[1;33m\u001b[0m\u001b[1;33m\u001b[0m\u001b[0m\n\u001b[0m\u001b[0;32m     79\u001b[0m \u001b[1;33m\u001b[0m\u001b[0m\n\u001b[0;32m     80\u001b[0m \u001b[0murl1\u001b[0m \u001b[1;33m=\u001b[0m \u001b[1;34m'https://download.jboss.org/jbosstools/updates/m2e-extensions/m2e-jdt-compiler/1.0.0/content.jar'\u001b[0m\u001b[1;33m\u001b[0m\u001b[1;33m\u001b[0m\u001b[0m\n",
      "\u001b[1;31mKeyError\u001b[0m: 'org.arakhne.afc.core.references'"
     ]
    }
   ],
   "source": [
    "p"
   ]
  },
  {
   "cell_type": "code",
   "execution_count": null,
   "metadata": {},
   "outputs": [],
   "source": []
  }
 ],
 "metadata": {
  "kernelspec": {
   "display_name": "Python 3",
   "language": "python",
   "name": "python3"
  },
  "language_info": {
   "codemirror_mode": {
    "name": "ipython",
    "version": 3
   },
   "file_extension": ".py",
   "mimetype": "text/x-python",
   "name": "python",
   "nbconvert_exporter": "python",
   "pygments_lexer": "ipython3",
   "version": "3.7.4"
  }
 },
 "nbformat": 4,
 "nbformat_minor": 2
}
